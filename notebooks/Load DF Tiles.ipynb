{
 "cells": [
  {
   "cell_type": "code",
   "execution_count": 1,
   "metadata": {
    "collapsed": true
   },
   "outputs": [],
   "source": [
    "# standard python tools\n",
    "import numpy as np\n",
    "import matplotlib.pyplot as plt\n",
    "from glob import glob\n",
    "from skimage.io import imread"
   ]
  },
  {
   "cell_type": "code",
   "execution_count": 2,
   "metadata": {
    "collapsed": true
   },
   "outputs": [],
   "source": [
    "# make sure pyqae is available\n",
    "try:\n",
    "    import pyqae as pq\n",
    "except ImportError:\n",
    "    import sys\n",
    "    sys.path.append('/Users/mader/Dropbox/Informatics/pyqae-master')\n",
    "    import pyqae as pq\n",
    "    \n",
    "# check to see if it is running on pyspark\n",
    "try:\n",
    "    import pyspark\n",
    "except ImportError:\n",
    "    print('Using a fake spark backend for processing')\n",
    "    import pyqae.simplespark as pyspark\n",
    "    sc = pyspark.LocalSparkContext()\n",
    "\n",
    "from pyqae.images import viz\n",
    "from pyqae.sitk import read_to_dataframe, read_to_rdd"
   ]
  },
  {
   "cell_type": "code",
   "execution_count": 5,
   "metadata": {
    "collapsed": false
   },
   "outputs": [],
   "source": [
    "mri_df = read_to_dataframe(sc, glob(\"/Users/mader/Dropbox/4Quant/Projects/TumorSegmentation/10092825/0004_t1_tse_sag_384/*.tif\"))"
   ]
  },
  {
   "cell_type": "code",
   "execution_count": 7,
   "metadata": {
    "collapsed": false
   },
   "outputs": [],
   "source": [
    "mri_df = sc.parallelize(all_images, 100).map(lambda x: Row(filename = x[0], **x[1])).toDF()"
   ]
  },
  {
   "cell_type": "code",
   "execution_count": 9,
   "metadata": {
    "collapsed": false
   },
   "outputs": [],
   "source": [
    "mri_df.registerTempTable(\"TestTable\")"
   ]
  },
  {
   "cell_type": "code",
   "execution_count": 15,
   "metadata": {
    "collapsed": false
   },
   "outputs": [
    {
     "data": {
      "text/html": [
       "<div>\n",
       "<table border=\"1\" class=\"dataframe\">\n",
       "  <thead>\n",
       "    <tr style=\"text-align: right;\">\n",
       "      <th></th>\n",
       "      <th>filename</th>\n",
       "      <th>GetSpacing</th>\n",
       "    </tr>\n",
       "  </thead>\n",
       "  <tbody>\n",
       "    <tr>\n",
       "      <th>0</th>\n",
       "      <td>/Users/mader/Dropbox/4Quant/Projects/TumorSegm...</td>\n",
       "      <td>(1.0, 1.0)</td>\n",
       "    </tr>\n",
       "    <tr>\n",
       "      <th>1</th>\n",
       "      <td>/Users/mader/Dropbox/4Quant/Projects/TumorSegm...</td>\n",
       "      <td>(1.0, 1.0)</td>\n",
       "    </tr>\n",
       "  </tbody>\n",
       "</table>\n",
       "</div>"
      ],
      "text/plain": [
       "                                            filename  GetSpacing\n",
       "0  /Users/mader/Dropbox/4Quant/Projects/TumorSegm...  (1.0, 1.0)\n",
       "1  /Users/mader/Dropbox/4Quant/Projects/TumorSegm...  (1.0, 1.0)"
      ]
     },
     "execution_count": 15,
     "metadata": {},
     "output_type": "execute_result"
    }
   ],
   "source": [
    "sqlContext.sql(\"\"\"SELECT filename, GetSpacing FROM TESTTable LIMIT 2\"\"\").toPandas()"
   ]
  },
  {
   "cell_type": "code",
   "execution_count": null,
   "metadata": {
    "collapsed": true
   },
   "outputs": [],
   "source": []
  }
 ],
 "metadata": {
  "kernelspec": {
   "display_name": "Python 3",
   "language": "python",
   "name": "python3"
  }
 },
 "nbformat": 4,
 "nbformat_minor": 1
}
