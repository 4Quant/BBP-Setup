{
 "cells": [
  {
   "cell_type": "code",
   "execution_count": 4,
   "metadata": {
    "collapsed": true
   },
   "outputs": [],
   "source": [
    "# standard python tools\n",
    "import numpy as np\n",
    "import matplotlib.pyplot as plt\n",
    "from glob import glob\n",
    "from skimage.io import imread"
   ]
  },
  {
   "cell_type": "code",
   "execution_count": 5,
   "metadata": {
    "collapsed": false
   },
   "outputs": [],
   "source": [
    "# make sure pyqae is available\n",
    "try:\n",
    "    import pyqae as pq\n",
    "except ImportError:\n",
    "    import sys\n",
    "    sys.path.append('/Users/mader/Dropbox/Informatics/pyqae-master')\n",
    "    print('Using Locally Built PYQAE')\n",
    "    import pyqae as pq\n",
    "    \n",
    "    \n",
    "# check to see if it is running on pyspark\n",
    "try:\n",
    "    import pyspark\n",
    "except ImportError:\n",
    "    print('Using a fake spark backend for processing')\n",
    "    import pyqae.simplespark as pyspark\n",
    "    sc = pyspark.LocalSparkContext()\n",
    "\n",
    "from pyqae.images import viz\n",
    "# multidimensional distributed arrays\n",
    "from pyqae.nd import filt_tensor, tensor_from_rdd, save_tensor_local, tensor_to_dataframe, save_tensor_parquet"
   ]
  },
  {
   "cell_type": "code",
   "execution_count": 6,
   "metadata": {
    "collapsed": true
   },
   "outputs": [],
   "source": [
    "import matplotlib.pyplot as plt\n",
    "plt.rcParams['image.cmap'] = 'bone'  # change default colormap see plt.cm for other colormap options"
   ]
  },
  {
   "cell_type": "code",
   "execution_count": 7,
   "metadata": {
    "collapsed": true
   },
   "outputs": [],
   "source": [
    "pc = pq.PyqaeContext(sc)"
   ]
  },
  {
   "cell_type": "markdown",
   "metadata": {},
   "source": [
    "# Read in Images\n",
    "Here the images are read from a directory using a wildcard path. Since the path is local, we can use the ```pc.readImageDirectoryLocal``` instead of the ```pc.readImageDirectory``` method since it is faster"
   ]
  },
  {
   "cell_type": "code",
   "execution_count": 8,
   "metadata": {
    "collapsed": false
   },
   "outputs": [],
   "source": [
    "img_rdd = pc.readImageDirectoryLocal(\"/Users/mader/Dropbox/4Quant/Projects/TumorSegmentation/10092825/0004_t1_tse_sag_384/*.tif\")"
   ]
  },
  {
   "cell_type": "code",
   "execution_count": 9,
   "metadata": {
    "collapsed": false
   },
   "outputs": [
    {
     "name": "stdout",
     "output_type": "stream",
     "text": [
      "/Users/mader/Dropbox/4Quant/Projects/TumorSegmentation/10092825/0004_t1_tse_sag_384/20274103.dcm.tif\n"
     ]
    },
    {
     "data": {
      "image/png": "[encoded data removed]",
      "text/plain": [
       "<matplotlib.figure.Figure at 0x116297c18>"
      ]
     },
     "metadata": {},
     "output_type": "display_data"
    }
   ],
   "source": [
    "%matplotlib inline\n",
    "filename, imgdata = img_rdd.mapValues(lambda x: x[::10, ::10]).first() # downsample first\n",
    "print(filename)\n",
    "_ = viz.show_image(imgdata)"
   ]
  },
  {
   "cell_type": "code",
   "execution_count": 10,
   "metadata": {
    "collapsed": false
   },
   "outputs": [
    {
     "name": "stdout",
     "output_type": "stream",
     "text": [
      "BoltArray\n",
      "mode: spark\n",
      "shape: (15, 384, 384, 1)\n",
      " (15, 384, 384, 1)\n"
     ]
    }
   ],
   "source": [
    "dist_brain_img = tensor_from_rdd(img_rdd)\n",
    "print(dist_brain_img, dist_brain_img.shape)"
   ]
  },
  {
   "cell_type": "code",
   "execution_count": 11,
   "metadata": {
    "collapsed": false
   },
   "outputs": [
    {
     "data": {
      "image/png": "[encoded data removed]",
      "text/plain": [
       "<matplotlib.figure.Figure at 0x11655b4e0>"
      ]
     },
     "metadata": {},
     "output_type": "display_data"
    }
   ],
   "source": [
    "%matplotlib inline\n",
    "_ = viz.show_image(dist_brain_img[0,::10, ::10, 0].toarray())"
   ]
  },
  {
   "cell_type": "code",
   "execution_count": 12,
   "metadata": {
    "collapsed": true
   },
   "outputs": [],
   "source": [
    "from skimage import img_as_float\n",
    "from skimage.morphology import reconstruction\n",
    "from skimage.exposure import adjust_gamma\n",
    "from skimage.filters import gaussian, median, rank\n",
    "from skimage.morphology import disk\n",
    "\n",
    "def rolling_ball_background(in_image, radius):\n",
    "    bg_image = rank.mean(in_image, disk(radius))\n",
    "    out_image = img_as_float(in_image) - img_as_float(bg_image)\n",
    "    return out_image\n",
    "    \n",
    "def gamma_bg_sub(img, radius = 10, gamma = 0.05):\n",
    "    \"\"\"\n",
    "    Perform gamma correction and then a simple rolling background subtraction\n",
    "    :param img: the image to process (2D)\n",
    "    :param radius: the radius of the ball\n",
    "    :param gamma: the factor for the gamma\n",
    "    :return: image of the same dimensions with the correction\n",
    "    \"\"\"\n",
    "    img = adjust_gamma(img, gamma)\n",
    "    img = rolling_ball_background(img, radius)\n",
    "    return img"
   ]
  },
  {
   "cell_type": "code",
   "execution_count": 13,
   "metadata": {
    "collapsed": false
   },
   "outputs": [
    {
     "name": "stderr",
     "output_type": "stream",
     "text": [
      "/Users/mader/anaconda/lib/python3.5/site-packages/skimage/filters/rank/generic.py:68: UserWarning: Bitdepth of 15 may result in bad rank filter performance due to large number of bins.\n",
      "  \"performance due to large number of bins.\" % bitdepth)\n"
     ]
    }
   ],
   "source": [
    "dist_filt_img = filt_tensor(dist_brain_img, filter_op = gamma_bg_sub, tile_size=(100, 100), padding = (10, 10))"
   ]
  },
  {
   "cell_type": "code",
   "execution_count": 14,
   "metadata": {
    "collapsed": false
   },
   "outputs": [
    {
     "data": {
      "image/png": "[encoded data removed]",
      "text/plain": [
       "<matplotlib.figure.Figure at 0x1165cb6d8>"
      ]
     },
     "metadata": {},
     "output_type": "display_data"
    }
   ],
   "source": [
    "%matplotlib inline\n",
    "_ = viz.show_image(dist_filt_img[0,::10, ::10, 0].toarray())"
   ]
  },
  {
   "cell_type": "markdown",
   "metadata": {},
   "source": [
    "# Save the output\n",
    "The files here are then saved from each worker node in parallel and the filename is returned to the master so we can see the new files that have been created. The RDD has ```cache``` applied to avoid writing the same file multiple times"
   ]
  },
  {
   "cell_type": "code",
   "execution_count": 15,
   "metadata": {
    "collapsed": false
   },
   "outputs": [
    {
     "data": {
      "text/plain": [
       "'/Users/mader/Downloads/test_dataE'"
      ]
     },
     "execution_count": 15,
     "metadata": {},
     "output_type": "execute_result"
    }
   ],
   "source": [
    "save_tensor_local(dist_filt_img, '/Users/mader/Downloads/test_dataE')"
   ]
  },
  {
   "cell_type": "code",
   "execution_count": null,
   "metadata": {
    "collapsed": true
   },
   "outputs": [],
   "source": []
  },
  {
   "cell_type": "code",
   "execution_count": 18,
   "metadata": {
    "collapsed": false
   },
   "outputs": [],
   "source": [
    "tensor_to_dataframe(dist_filt_img).write.parquet(\"test_output\")"
   ]
  },
  {
   "cell_type": "code",
   "execution_count": 19,
   "metadata": {
    "collapsed": false
   },
   "outputs": [],
   "source": [
    "save_tensor_parquet(dist_filt_img, '/Users/mader/Downloads/test_data_pqt')"
   ]
  },
  {
   "cell_type": "code",
   "execution_count": null,
   "metadata": {
    "collapsed": true
   },
   "outputs": [],
   "source": []
  }
 ],
 "metadata": {
  "kernelspec": {
   "display_name": "Python 3",
   "language": "python",
   "name": "python3"
  },
  "language_info": {
   "codemirror_mode": {
    "name": "ipython",
    "version": 3
   },
   "file_extension": ".py",
   "mimetype": "text/x-python",
   "name": "python",
   "nbconvert_exporter": "python",
   "pygments_lexer": "ipython3",
   "version": "3.5.2"
  }
 },
 "nbformat": 4,
 "nbformat_minor": 1
}
