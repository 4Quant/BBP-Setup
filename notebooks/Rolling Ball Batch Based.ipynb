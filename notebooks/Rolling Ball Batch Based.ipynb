{
 "cells": [
  {
   "cell_type": "code",
   "execution_count": null,
   "metadata": {
    "collapsed": true
   },
   "outputs": [],
   "source": [
    "# standard python tools\n",
    "import numpy as np\n",
    "import matplotlib.pyplot as plt\n",
    "from glob import glob\n",
    "from skimage.io import imread"
   ]
  },
  {
   "cell_type": "code",
   "execution_count": 3,
   "metadata": {
    "collapsed": true
   },
   "outputs": [],
   "source": [
    "# make sure pyqae is available\n",
    "try:\n",
    "    import pyqae as pq\n",
    "except ImportError:\n",
    "    import sys\n",
    "    sys.path.append('/Users/mader/Dropbox/Informatics/pyqae-master')\n",
    "    import pyqae as pq\n",
    "    \n",
    "# check to see if it is running on pyspark\n",
    "try:\n",
    "    import pyspark\n",
    "except ImportError:\n",
    "    print('Using a fake spark backend for processing')\n",
    "    import pyqae.simplespark as pyspark\n",
    "    sc = pyspark.LocalSparkContext()\n",
    "\n",
    "from pyqae.images import viz"
   ]
  },
  {
   "cell_type": "code",
   "execution_count": 4,
   "metadata": {
    "collapsed": true
   },
   "outputs": [],
   "source": [
    "import matplotlib.pyplot as plt\n",
    "plt.rcParams['image.cmap'] = 'bone'  # change default colormap see plt.cm for other colormap options"
   ]
  },
  {
   "cell_type": "code",
   "execution_count": 5,
   "metadata": {
    "collapsed": true
   },
   "outputs": [],
   "source": [
    "pc = pq.PyqaeContext(sc)"
   ]
  },
  {
   "cell_type": "markdown",
   "metadata": {},
   "source": [
    "# Read in Images\n",
    "Here the images are read from a directory using a wildcard path"
   ]
  },
  {
   "cell_type": "code",
   "execution_count": 6,
   "metadata": {
    "collapsed": true
   },
   "outputs": [],
   "source": [
    "img_list = pc.readImageDirectory(\"/Users/mader/Dropbox/4Quant/Projects/TumorSegmentation/10092825/0004_t1_tse_sag_384/*.tif\")"
   ]
  },
  {
   "cell_type": "code",
   "execution_count": 7,
   "metadata": {
    "collapsed": false
   },
   "outputs": [
    {
     "name": "stdout",
     "output_type": "stream",
     "text": [
      "file:/Users/mader/Dropbox/4Quant/Projects/TumorSegmentation/10092825/0004_t1_tse_sag_384/20274103.dcm.tif\n"
     ]
    },
    {
     "data": {
      "image/png": "[encoded data removed]",
      "text/plain": [
       "<matplotlib.figure.Figure at 0x1163960b8>"
      ]
     },
     "metadata": {},
     "output_type": "display_data"
    }
   ],
   "source": [
    "%matplotlib inline\n",
    "filename, imgdata = img_list.mapValues(lambda x: x[::10, ::10]).first() # downsample first\n",
    "print(filename)\n",
    "_ = viz.show_image(imgdata)"
   ]
  },
  {
   "cell_type": "code",
   "execution_count": 9,
   "metadata": {
    "collapsed": true
   },
   "outputs": [],
   "source": [
    "from skimage import img_as_float\n",
    "from skimage.morphology import reconstruction\n",
    "from skimage.exposure import adjust_gamma\n",
    "from skimage.filters import gaussian, median, rank\n",
    "from skimage.morphology import disk\n",
    "\n",
    "def rolling_ball_background(in_image, radius):\n",
    "    bg_image = rank.mean(in_image, disk(radius))\n",
    "    out_image = img_as_float(in_image) - img_as_float(bg_image)\n",
    "    return out_image\n",
    "    \n",
    "def gamma_bg_sub(img, radius = 100, gamma = 0.05):\n",
    "    \"\"\"\n",
    "    Perform gamma correction and then a simple rolling background subtraction\n",
    "    :param img: the image to process (2D)\n",
    "    :param radius: the radius of the ball\n",
    "    :param gamma: the factor for the gamma\n",
    "    :return: image of the same dimensions with the correction\n",
    "    \"\"\"\n",
    "    img = adjust_gamma(img, gamma)\n",
    "    img = rolling_ball_background(img, radius)\n",
    "    return img"
   ]
  },
  {
   "cell_type": "code",
   "execution_count": 10,
   "metadata": {
    "collapsed": true
   },
   "outputs": [],
   "source": [
    "bg_cor_list = img_list.mapValues(gamma_bg_sub)"
   ]
  },
  {
   "cell_type": "code",
   "execution_count": 11,
   "metadata": {
    "collapsed": false
   },
   "outputs": [
    {
     "name": "stdout",
     "output_type": "stream",
     "text": [
      "file:/Users/mader/Dropbox/4Quant/Projects/TumorSegmentation/10092825/0004_t1_tse_sag_384/20274103.dcm.tif\n"
     ]
    },
    {
     "data": {
      "image/png": "[encoded data removed]",
      "text/plain": [
       "<matplotlib.figure.Figure at 0x116449400>"
      ]
     },
     "metadata": {},
     "output_type": "display_data"
    }
   ],
   "source": [
    "%matplotlib inline\n",
    "filename, bg_data = bg_cor_list.mapValues(lambda x: x[::10, ::10]).first() # downsample first\n",
    "print(filename)\n",
    "_ = viz.show_image(bg_data)"
   ]
  },
  {
   "cell_type": "code",
   "execution_count": 15,
   "metadata": {
    "collapsed": false
   },
   "outputs": [],
   "source": [
    "import os\n",
    "from skimage.io import imsave\n",
    "def saveImage(x):\n",
    "    rawpath, img = x\n",
    "    fullpath = rawpath.replace('file:', '')\n",
    "    folder, cfile = os.path.split(fullpath)\n",
    "    filename, fileext = os.path.splitext(cfile)\n",
    "    newpath = os.path.join(folder, \"{}_bg_corr.png\".format(filename))\n",
    "    imsave(newpath, img)\n",
    "    return newpath"
   ]
  },
  {
   "cell_type": "markdown",
   "metadata": {},
   "source": [
    "# Save the output\n",
    "The files here are then saved from each worker node in parallel and the filename is returned to the master so we can see the new files that have been created. The RDD has ```cache``` applied to avoid writing the same file multiple times"
   ]
  },
  {
   "cell_type": "code",
   "execution_count": 16,
   "metadata": {
    "collapsed": false
   },
   "outputs": [
    {
     "name": "stdout",
     "output_type": "stream",
     "text": [
      "['/Users/mader/Dropbox/4Quant/Projects/TumorSegmentation/10092825/0004_t1_tse_sag_384/20274103.dcm_bg_corr.png', '/Users/mader/Dropbox/4Quant/Projects/TumorSegmentation/10092825/0004_t1_tse_sag_384/20274119.dcm_bg_corr.png', '/Users/mader/Dropbox/4Quant/Projects/TumorSegmentation/10092825/0004_t1_tse_sag_384/20274135.dcm_bg_corr.png', '/Users/mader/Dropbox/4Quant/Projects/TumorSegmentation/10092825/0004_t1_tse_sag_384/20274151.dcm_bg_corr.png', '/Users/mader/Dropbox/4Quant/Projects/TumorSegmentation/10092825/0004_t1_tse_sag_384/20274167.dcm_bg_corr.png', '/Users/mader/Dropbox/4Quant/Projects/TumorSegmentation/10092825/0004_t1_tse_sag_384/20274183.dcm_bg_corr.png', '/Users/mader/Dropbox/4Quant/Projects/TumorSegmentation/10092825/0004_t1_tse_sag_384/20274199.dcm_bg_corr.png', '/Users/mader/Dropbox/4Quant/Projects/TumorSegmentation/10092825/0004_t1_tse_sag_384/20274215.dcm_bg_corr.png', '/Users/mader/Dropbox/4Quant/Projects/TumorSegmentation/10092825/0004_t1_tse_sag_384/20274231.dcm_bg_corr.png', '/Users/mader/Dropbox/4Quant/Projects/TumorSegmentation/10092825/0004_t1_tse_sag_384/20274247.dcm_bg_corr.png', '/Users/mader/Dropbox/4Quant/Projects/TumorSegmentation/10092825/0004_t1_tse_sag_384/20274263.dcm_bg_corr.png', '/Users/mader/Dropbox/4Quant/Projects/TumorSegmentation/10092825/0004_t1_tse_sag_384/20274279.dcm_bg_corr.png', '/Users/mader/Dropbox/4Quant/Projects/TumorSegmentation/10092825/0004_t1_tse_sag_384/20274295.dcm_bg_corr.png', '/Users/mader/Dropbox/4Quant/Projects/TumorSegmentation/10092825/0004_t1_tse_sag_384/20274311.dcm_bg_corr.png', '/Users/mader/Dropbox/4Quant/Projects/TumorSegmentation/10092825/0004_t1_tse_sag_384/20274327.dcm_bg_corr.png']\n"
     ]
    }
   ],
   "source": [
    "fileout_rdd = bg_cor_list.map(lambda x: saveImage(x)).cache()\n",
    "out_files = fileout_rdd.collect()\n",
    "print(out_files)"
   ]
  },
  {
   "cell_type": "code",
   "execution_count": 18,
   "metadata": {
    "collapsed": false
   },
   "outputs": [],
   "source": [
    "from pyspark.sql import Row"
   ]
  },
  {
   "cell_type": "code",
   "execution_count": null,
   "metadata": {
    "collapsed": true
   },
   "outputs": [],
   "source": []
  }
 ],
 "metadata": {
  "kernelspec": {
   "display_name": "Python 3",
   "language": "python",
   "name": "python3"
  },
  "language_info": {
   "codemirror_mode": {
    "name": "ipython",
    "version": 3
   },
   "file_extension": ".py",
   "mimetype": "text/x-python",
   "name": "python",
   "nbconvert_exporter": "python",
   "pygments_lexer": "ipython3",
   "version": "3.5.2"
  }
 },
 "nbformat": 4,
 "nbformat_minor": 1
}
