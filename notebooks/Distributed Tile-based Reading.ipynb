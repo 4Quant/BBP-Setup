{
 "cells": [
  {
   "cell_type": "code",
   "execution_count": 1,
   "metadata": {
    "collapsed": true
   },
   "outputs": [],
   "source": [
    "# standard python tools\n",
    "import numpy as np\n",
    "import matplotlib.pyplot as plt\n",
    "from glob import glob\n",
    "from skimage.io import imread"
   ]
  },
  {
   "cell_type": "code",
   "execution_count": 2,
   "metadata": {
    "collapsed": true
   },
   "outputs": [],
   "source": [
    "# make sure pyqae is available\n",
    "import pyqae as pq\n",
    "    \n",
    "# check to see if it is running on pyspark\n",
    "try:\n",
    "    import pyspark\n",
    "except ImportError:\n",
    "    print('Using a fake spark backend for processing')\n",
    "    import pyqae.simplespark as pyspark\n",
    "    sc = pyspark.LocalSparkContext()\n",
    "\n",
    "from pyqae.images import viz\n",
    "# multidimensional distributed arrays\n",
    "from pyqae.nd import paths_to_tiled_image"
   ]
  },
  {
   "cell_type": "code",
   "execution_count": 3,
   "metadata": {
    "collapsed": false
   },
   "outputs": [
    {
     "name": "stdout",
     "output_type": "stream",
     "text": [
      "Help on function paths_to_tiled_image in module pyqae.nd:\n",
      "\n",
      "paths_to_tiled_image(paths, context=None, tile_size=(256, 256), padding=(0, 0), **kwargs)\n",
      "    Create an tiled ND image from a collection of paths\n",
      "    :param paths: List[str] / RDD[str] a list or RDD of strings containing image paths\n",
      "    :param context: SparkContext the context to make the RDD from if paths is a list\n",
      "    :param tile_size: the size of tiles to cut\n",
      "    :param padding:  the padding to use\n",
      "    :param kwargs: other arguments for creating the initial RDD\n",
      "    :return: a ChunkedRDD containing the image data as tiles (use .unchunk to make into a normal RDD)\n",
      "\n"
     ]
    }
   ],
   "source": [
    "help(paths_to_tiled_image)"
   ]
  },
  {
   "cell_type": "code",
   "execution_count": 5,
   "metadata": {
    "collapsed": false
   },
   "outputs": [
    {
     "name": "stderr",
     "output_type": "stream",
     "text": [
      "/Users/mader/anaconda/lib/python3.5/site-packages/PIL/Image.py:2246: DecompressionBombWarning: Image size (687540942 pixels) exceeds limit of 89478485 pixels, could be decompression bomb DOS attack.\n",
      "  DecompressionBombWarning)\n"
     ]
    }
   ],
   "source": [
    "dist_tile_rdd = paths_to_tiled_image(['/Volumes/ExDisk/cor03639_CH2.tif']*5, context = sc, numSlices = 100)"
   ]
  },
  {
   "cell_type": "code",
   "execution_count": 7,
   "metadata": {
    "collapsed": false
   },
   "outputs": [
    {
     "name": "stdout",
     "output_type": "stream",
     "text": [
      "Chunked BoltArray\n",
      "shape: (5, 22902, 30021)\n",
      "\n"
     ]
    }
   ],
   "source": [
    "print(dist_tile_rdd)"
   ]
  },
  {
   "cell_type": "code",
   "execution_count": null,
   "metadata": {
    "collapsed": false
   },
   "outputs": [],
   "source": [
    "%matplotlib inline\n",
    "import matplotlib.pyplot as plt\n",
    "_ = viz.show_image(dist_tile_rdd.unchunk()[0,15000:16000:10,10000:12000:10].toarray())"
   ]
  },
  {
   "cell_type": "code",
   "execution_count": null,
   "metadata": {
    "collapsed": true
   },
   "outputs": [],
   "source": []
  }
 ],
 "metadata": {
  "kernelspec": {
   "display_name": "Python 3",
   "language": "python",
   "name": "python3"
  },
  "language_info": {
   "codemirror_mode": {
    "name": "ipython",
    "version": 3
   },
   "file_extension": ".py",
   "mimetype": "text/x-python",
   "name": "python",
   "nbconvert_exporter": "python",
   "pygments_lexer": "ipython3",
   "version": "3.5.2"
  }
 },
 "nbformat": 4,
 "nbformat_minor": 1
}
