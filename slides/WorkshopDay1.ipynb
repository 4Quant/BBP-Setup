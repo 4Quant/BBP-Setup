{
 "cells": [
  {
   "cell_type": "markdown",
   "metadata": {
    "slideshow": {
     "slide_type": "slide"
    }
   },
   "source": [
    "# Workshop Day 1 \n",
    "## Setup and Getting Started\n",
    "### Kevin Mader (4Quant, ETH Zurich)\n",
    "\n",
    "- https://github.com/4Quant/BBP-Setup\n"
   ]
  },
  {
   "cell_type": "markdown",
   "metadata": {
    "slideshow": {
     "slide_type": "slide"
    }
   },
   "source": [
    "# Outline\n",
    "## Morning - Introduction to Parallel and Distributed Computing\n",
    "- Shared Memory, Concurrency\n",
    "- Embarrassingly Parallel\n",
    "- RDDs\n",
    "- Images\n",
    "    - Large Images (Tiling)\n",
    "    - Chunking / Stacking\n",
    "- Shuffling\n",
    "- IO\n",
    "    - HDF5 for ND Data\n",
    "    - HDFS for Large Collections\n",
    "    - Object Store\n",
    "\n"
   ]
  },
  {
   "cell_type": "markdown",
   "metadata": {
    "slideshow": {
     "slide_type": "subslide"
    }
   },
   "source": [
    "## Afternoon - BBP Infrastructure and Setup\n",
    "- Databricks Cloud \n",
    "- Demos / Community Accounts\n",
    "- Tools\n",
    "- ImageJ / FIJI Plugins\n",
    "- Python Packages\n",
    "- IO\n",
    "    - Local / Driver Machine\n",
    "    - Shared Drives / NFS\n",
    "    - AWS S3 / Switch / IBM"
   ]
  },
  {
   "cell_type": "markdown",
   "metadata": {
    "slideshow": {
     "slide_type": "slide"
    }
   },
   "source": [
    "# Use Case\n",
    "\n",
    "[Stitching the whole brain](https://rawgit.com/4Quant/SRI2015/master/SRIPres.html)"
   ]
  },
  {
   "cell_type": "markdown",
   "metadata": {
    "slideshow": {
     "slide_type": "slide"
    }
   },
   "source": [
    "# References\n",
    "### Big Data\n",
    "\n",
    "- [Google's Presentation on Distributed Computing](http://www.youtube.com/watch?v=yjPBkvYh-ss&feature=youtu.be)\n",
    " - [Slides](http://www.slideshare.net/tugrulh/google-cluster-computing-and-mapreduce-introduction-to-distributed-system-design)\n",
    " - [MapReduce Paper](http://citeseerx.ist.psu.edu/viewdoc/summary;jsessionid=110C01079B22F1138DBDB74A20F65AF4?doi=10.1.1.135.4448): Jeffrey Dean, et al. (n.d.). MapReduce: Simplified Data Processing on Large Clusters.\n",
    "- [Scalable Systems Course](https://courses.cs.washington.edu/courses/cse490h/08au/)\n",
    "- [Tutorial in Hadoop](http://www.youtube.com/watch?v=KwW7bQRykHI)\n",
    "- [Intro to Data Science @UCB](http://amplab.github.io/datascience-sp14/)\n",
    "\n",
    "### Cluster Computing\n",
    "\n",
    "- Altintas, I. (2013). Workflow-driven programming paradigms for distributed analysis of biological big data. In 2013 IEEE 3rd International Conference on Computational Advances in Bio and medical Sciences (ICCABS) (pp. 1–1). IEEE. doi:10.1109/ICCABS.2013.6629243\n",
    "- [Condor High-throughput Computing](http://www.cs.wisc.edu/condor/)\n",
    "- [Condor Setup at ITET](https://computing.ee.ethz.ch/Services/Condor)\n",
    "- [Sun (now Oracle) Grid Engine](http://gridscheduler.sourceforge.net/htmlman/manuals.html) or [here](http://wiki.gridengine.info/wiki/index.php/Main_Page)\n",
    "\n",
    "### Databases\n",
    "\n",
    "- Ollion, J., Cochennec, J., Loll, F., Escudé, C., & Boudier, T. (2013). [TANGO](http://www.pubmedcentral.nih.gov/articlerender.fcgi?artid=3702251&tool=pmcentrez&rendertype=abstract): a generic tool for high-throughput 3D image analysis for studying nuclear organization. Bioinformatics (Oxford, England), 29(14), 1840–1. doi:10.1093/bioinformatics/btt276\n",
    "\n",
    "### Cloud Computing\n",
    "\n",
    "- Amazon S3\n",
    "- Sitaram, D., & Manjunath, G. (2012). Moving To The Cloud. null (Vol. null). Elsevier. doi:10.1016/B978-1-59749-725-1.00006-8\n",
    "- Duan, P., Wang, W., Zhang, W., Gong, F., Zhang, P., & Rao, Y. (2013). Food Image Recognition Using Pervasive Cloud Computing. In 2013 IEEE International Conference on Green Computing and Communications and IEEE Internet of Things and IEEE Cyber, Physical and Social Computing (pp. 1631–1637). IEEE. doi:10.1109/GreenCom-iThings-CPSCom.2013.296"
   ]
  },
  {
   "cell_type": "markdown",
   "metadata": {
    "slideshow": {
     "slide_type": "slide"
    }
   },
   "source": [
    "# Scaling Up / Big Data Concepts\n",
    "- [QBI Slides](https://rawgit.com/kmader/Quantitative-Big-Imaging-2016/master/Lectures/10-Slides.html#(6)\n",
    "- [Handout](https://rawgithub.com/kmader/Quantitative-Big-Imaging-2016/master/Lectures/10-handout.pdf)"
   ]
  },
  {
   "cell_type": "markdown",
   "metadata": {
    "slideshow": {
     "slide_type": "slide"
    }
   },
   "source": [
    "# More Usual Approaches\n",
    "- [Java-based Image Analysis](https://rawgit.com/4Quant/JUG-2016/master/Slides.html#/7)"
   ]
  },
  {
   "cell_type": "markdown",
   "metadata": {
    "slideshow": {
     "slide_type": "slide"
    }
   },
   "source": [
    "# Practice"
   ]
  },
  {
   "cell_type": "code",
   "execution_count": null,
   "metadata": {
    "collapsed": true,
    "slideshow": {
     "slide_type": "subslide"
    }
   },
   "outputs": [],
   "source": [
    "# Databricks Cloud (Easy)\n",
    "\n",
    "\n",
    "Username: bluebrainproject@4quant.com\n",
    "Password: bluebrain123\n",
    "See Getting Started Notebook (https://community.cloud.databricks.com/?o=8317686147558972#notebook/325958277983301)\n",
    "\n",
    "\n"
   ]
  }
 ],
 "metadata": {
  "celltoolbar": "Slideshow",
  "kernelspec": {
   "display_name": "Python 3",
   "language": "python",
   "name": "python3"
  },
  "language_info": {
   "codemirror_mode": {
    "name": "ipython",
    "version": 3
   },
   "file_extension": ".py",
   "mimetype": "text/x-python",
   "name": "python",
   "nbconvert_exporter": "python",
   "pygments_lexer": "ipython3",
   "version": "3.5.2"
  }
 },
 "nbformat": 4,
 "nbformat_minor": 1
}
